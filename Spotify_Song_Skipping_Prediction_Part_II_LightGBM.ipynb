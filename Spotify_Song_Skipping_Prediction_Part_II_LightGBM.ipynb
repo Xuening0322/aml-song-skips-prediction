{
  "nbformat": 4,
  "nbformat_minor": 0,
  "metadata": {
    "colab": {
      "provenance": [],
      "collapsed_sections": [
        "pvIf40NQ9JPE",
        "CfSD5qMkAb5h"
      ]
    },
    "kernelspec": {
      "name": "python3",
      "display_name": "Python 3"
    },
    "language_info": {
      "name": "python"
    }
  },
  "cells": [
    {
      "cell_type": "markdown",
      "metadata": {
        "id": "KEwJAzBN9dUi"
      },
      "source": [
        "# Spotify Song Skipping Prediction Part II\n",
        "\n"
      ]
    },
    {
      "cell_type": "markdown",
      "metadata": {
        "id": "pPU5GFyG9XgZ"
      },
      "source": [
        "## Dependencies"
      ]
    },
    {
      "cell_type": "code",
      "metadata": {
        "id": "c2hi8o3D9cBc"
      },
      "source": [
        "import os\n",
        "import pandas as pd\n",
        "import seaborn as sns\n",
        "import matplotlib.pyplot as plt\n",
        "import numpy as np"
      ],
      "execution_count": 1,
      "outputs": []
    },
    {
      "cell_type": "code",
      "metadata": {
        "id": "pk0aemCMfopY"
      },
      "source": [
        "# Function for logging metrics\n",
        "from sklearn.metrics import accuracy_score, precision_score, recall_score, f1_score\n",
        "from sklearn.metrics import roc_auc_score, roc_curve\n",
        "\n",
        "def log_metrics(labels, preds, preds_proba, is_val=True):\n",
        "    if is_val:\n",
        "        pref = 'validation'\n",
        "    else:\n",
        "        pref = 'train'\n",
        "    metrics = {}\n",
        "    metrics[f\"{pref}/accuracy_score\"] = accuracy_score(labels, preds)\n",
        "    metrics[f\"{pref}/precision\"] = precision_score(labels, preds, average=\"weighted\")\n",
        "    metrics[f\"{pref}/recall\"] = recall_score(labels, preds, average=\"weighted\")\n",
        "    metrics[f\"{pref}/f1_score\"] = f1_score(labels, preds, average=\"weighted\")\n",
        "    metrics[f\"{pref}/roc_auc\"] = roc_auc_score(labels, preds_proba)\n",
        "\n",
        "    # Print metrics\n",
        "    for k, v in metrics.items():\n",
        "        print(f'{k} : {v}')\n",
        "\n",
        "    # If ROC AUC is relevant, plot ROC curve\n",
        "    fpr, tpr, thresholds = roc_curve(labels, preds_proba)\n",
        "    plt.figure()\n",
        "    plt.plot(fpr, tpr, label='ROC curve (area = %0.2f)' % metrics[f\"{pref}/roc_auc\"])\n",
        "    plt.plot([0, 1], [0, 1], 'k--')\n",
        "    plt.xlim([0.0, 1.0])\n",
        "    plt.ylim([0.0, 1.05])\n",
        "    plt.xlabel('False Positive Rate')\n",
        "    plt.ylabel('True Positive Rate')\n",
        "    plt.title('Receiver Operating Characteristic')\n",
        "    plt.legend(loc=\"lower right\")\n",
        "    plt.show()"
      ],
      "execution_count": 2,
      "outputs": []
    },
    {
      "cell_type": "code",
      "source": [
        "from google.colab import drive\n",
        "drive.mount('/content/drive')"
      ],
      "metadata": {
        "colab": {
          "base_uri": "https://localhost:8080/",
          "height": 0
        },
        "id": "YzWwIl_Ma11S",
        "outputId": "2b4b171e-efcc-4ea6-98bf-b6c709b465ff"
      },
      "execution_count": 3,
      "outputs": [
        {
          "output_type": "stream",
          "name": "stdout",
          "text": [
            "Mounted at /content/drive\n"
          ]
        }
      ]
    },
    {
      "cell_type": "markdown",
      "metadata": {
        "id": "reUZPTaR7XDq"
      },
      "source": [
        "## Loading the data"
      ]
    },
    {
      "cell_type": "code",
      "metadata": {
        "id": "fuh-DaV0AsvF"
      },
      "source": [
        "data = pd.read_csv('/content/drive/MyDrive/spotify_skip.csv')"
      ],
      "execution_count": 4,
      "outputs": []
    },
    {
      "cell_type": "code",
      "metadata": {
        "colab": {
          "base_uri": "https://localhost:8080/",
          "height": 0
        },
        "id": "OaLckJuHAooj",
        "outputId": "13be4988-ff05-4072-f6fc-92adeea240f9"
      },
      "source": [
        "print('Data size: {}\\n'.format(len(data)))"
      ],
      "execution_count": 5,
      "outputs": [
        {
          "output_type": "stream",
          "name": "stdout",
          "text": [
            "Data size: 3106183\n",
            "\n"
          ]
        }
      ]
    },
    {
      "cell_type": "code",
      "metadata": {
        "colab": {
          "base_uri": "https://localhost:8080/",
          "height": 0
        },
        "id": "AF5e1e_KaICl",
        "outputId": "7e109f18-7e20-4126-d988-39306b68ec3f"
      },
      "source": [
        "data.not_skipped.value_counts()"
      ],
      "execution_count": 6,
      "outputs": [
        {
          "output_type": "execute_result",
          "data": {
            "text/plain": [
              "False    2022047\n",
              "True     1084136\n",
              "Name: not_skipped, dtype: int64"
            ]
          },
          "metadata": {},
          "execution_count": 6
        }
      ]
    },
    {
      "cell_type": "code",
      "metadata": {
        "id": "b6s_VHfbLZPY",
        "colab": {
          "base_uri": "https://localhost:8080/",
          "height": 0
        },
        "outputId": "2f4a320d-0340-469d-9901-2d73a8b18be6"
      },
      "source": [
        "data.columns"
      ],
      "execution_count": 7,
      "outputs": [
        {
          "output_type": "execute_result",
          "data": {
            "text/plain": [
              "Index(['session_id', 'session_position', 'session_length', 'track_id',\n",
              "       'skip_1', 'skip_2', 'skip_3', 'not_skipped', 'context_switch',\n",
              "       'no_pause_before_play', 'short_pause_before_play',\n",
              "       'long_pause_before_play', 'hist_user_behavior_n_seekfwd',\n",
              "       'hist_user_behavior_n_seekback', 'hist_user_behavior_is_shuffle',\n",
              "       'hour_of_day', 'date', 'premium', 'context_type',\n",
              "       'hist_user_behavior_reason_start', 'hist_user_behavior_reason_end',\n",
              "       'duration', 'release_year', 'us_popularity_estimate', 'acousticness',\n",
              "       'beat_strength', 'bounciness', 'danceability', 'dyn_range_mean',\n",
              "       'energy', 'flatness', 'instrumentalness', 'key', 'liveness', 'loudness',\n",
              "       'mechanism', 'mode', 'organism', 'speechiness', 'tempo',\n",
              "       'time_signature', 'valence', 'acoustic_vector_0', 'acoustic_vector_1',\n",
              "       'acoustic_vector_2', 'acoustic_vector_3', 'acoustic_vector_4',\n",
              "       'acoustic_vector_5', 'acoustic_vector_6', 'acoustic_vector_7', 'day',\n",
              "       'month', 'year', 'years_since_release', 'since_session_start'],\n",
              "      dtype='object')"
            ]
          },
          "metadata": {},
          "execution_count": 7
        }
      ]
    },
    {
      "cell_type": "code",
      "metadata": {
        "colab": {
          "base_uri": "https://localhost:8080/",
          "height": 349
        },
        "id": "6c9gmFZWpStJ",
        "outputId": "0b1eef46-ad96-4dd7-e345-72b8aeb6f14b"
      },
      "source": [
        "data.head(3)"
      ],
      "execution_count": 8,
      "outputs": [
        {
          "output_type": "execute_result",
          "data": {
            "text/plain": [
              "                                session_id  session_position  session_length  \\\n",
              "0  31_0000b0c5-94b8-426b-87e2-ef81510b9b17                 1              20   \n",
              "1  31_0000b0c5-94b8-426b-87e2-ef81510b9b17                 2              20   \n",
              "2  31_0000b0c5-94b8-426b-87e2-ef81510b9b17                 3              20   \n",
              "\n",
              "                                 track_id  skip_1  skip_2  skip_3  \\\n",
              "0  t_86abc9b1-2a71-41d8-ab97-ac97ea20276a    True    True    True   \n",
              "1  t_33a133e6-240c-467d-a5c5-a6729a545cc2    True    True    True   \n",
              "2  t_cd87b117-d9d0-4562-b469-65ae0e88f8f5    True    True    True   \n",
              "\n",
              "   not_skipped  context_switch  no_pause_before_play  ...  acoustic_vector_3  \\\n",
              "0        False               0                     0  ...          -0.457729   \n",
              "1        False               0                     0  ...          -0.650849   \n",
              "2        False               0                     1  ...          -0.413609   \n",
              "\n",
              "   acoustic_vector_4  acoustic_vector_5  acoustic_vector_6  acoustic_vector_7  \\\n",
              "0           0.161611           0.110725          -0.210354           0.290429   \n",
              "1           0.263819           0.192007          -0.208822           0.261239   \n",
              "2          -0.139509           0.159876          -0.349294           0.114625   \n",
              "\n",
              "   day month  year years_since_release since_session_start  \n",
              "0   14     8  2018                12.0          200.546677  \n",
              "1   14     8  2018                 3.0          447.066406  \n",
              "2   14     8  2018                 3.0          677.279739  \n",
              "\n",
              "[3 rows x 55 columns]"
            ],
            "text/html": [
              "\n",
              "  <div id=\"df-d94dca36-e83e-43df-8ce8-dab7fbc50114\" class=\"colab-df-container\">\n",
              "    <div>\n",
              "<style scoped>\n",
              "    .dataframe tbody tr th:only-of-type {\n",
              "        vertical-align: middle;\n",
              "    }\n",
              "\n",
              "    .dataframe tbody tr th {\n",
              "        vertical-align: top;\n",
              "    }\n",
              "\n",
              "    .dataframe thead th {\n",
              "        text-align: right;\n",
              "    }\n",
              "</style>\n",
              "<table border=\"1\" class=\"dataframe\">\n",
              "  <thead>\n",
              "    <tr style=\"text-align: right;\">\n",
              "      <th></th>\n",
              "      <th>session_id</th>\n",
              "      <th>session_position</th>\n",
              "      <th>session_length</th>\n",
              "      <th>track_id</th>\n",
              "      <th>skip_1</th>\n",
              "      <th>skip_2</th>\n",
              "      <th>skip_3</th>\n",
              "      <th>not_skipped</th>\n",
              "      <th>context_switch</th>\n",
              "      <th>no_pause_before_play</th>\n",
              "      <th>...</th>\n",
              "      <th>acoustic_vector_3</th>\n",
              "      <th>acoustic_vector_4</th>\n",
              "      <th>acoustic_vector_5</th>\n",
              "      <th>acoustic_vector_6</th>\n",
              "      <th>acoustic_vector_7</th>\n",
              "      <th>day</th>\n",
              "      <th>month</th>\n",
              "      <th>year</th>\n",
              "      <th>years_since_release</th>\n",
              "      <th>since_session_start</th>\n",
              "    </tr>\n",
              "  </thead>\n",
              "  <tbody>\n",
              "    <tr>\n",
              "      <th>0</th>\n",
              "      <td>31_0000b0c5-94b8-426b-87e2-ef81510b9b17</td>\n",
              "      <td>1</td>\n",
              "      <td>20</td>\n",
              "      <td>t_86abc9b1-2a71-41d8-ab97-ac97ea20276a</td>\n",
              "      <td>True</td>\n",
              "      <td>True</td>\n",
              "      <td>True</td>\n",
              "      <td>False</td>\n",
              "      <td>0</td>\n",
              "      <td>0</td>\n",
              "      <td>...</td>\n",
              "      <td>-0.457729</td>\n",
              "      <td>0.161611</td>\n",
              "      <td>0.110725</td>\n",
              "      <td>-0.210354</td>\n",
              "      <td>0.290429</td>\n",
              "      <td>14</td>\n",
              "      <td>8</td>\n",
              "      <td>2018</td>\n",
              "      <td>12.0</td>\n",
              "      <td>200.546677</td>\n",
              "    </tr>\n",
              "    <tr>\n",
              "      <th>1</th>\n",
              "      <td>31_0000b0c5-94b8-426b-87e2-ef81510b9b17</td>\n",
              "      <td>2</td>\n",
              "      <td>20</td>\n",
              "      <td>t_33a133e6-240c-467d-a5c5-a6729a545cc2</td>\n",
              "      <td>True</td>\n",
              "      <td>True</td>\n",
              "      <td>True</td>\n",
              "      <td>False</td>\n",
              "      <td>0</td>\n",
              "      <td>0</td>\n",
              "      <td>...</td>\n",
              "      <td>-0.650849</td>\n",
              "      <td>0.263819</td>\n",
              "      <td>0.192007</td>\n",
              "      <td>-0.208822</td>\n",
              "      <td>0.261239</td>\n",
              "      <td>14</td>\n",
              "      <td>8</td>\n",
              "      <td>2018</td>\n",
              "      <td>3.0</td>\n",
              "      <td>447.066406</td>\n",
              "    </tr>\n",
              "    <tr>\n",
              "      <th>2</th>\n",
              "      <td>31_0000b0c5-94b8-426b-87e2-ef81510b9b17</td>\n",
              "      <td>3</td>\n",
              "      <td>20</td>\n",
              "      <td>t_cd87b117-d9d0-4562-b469-65ae0e88f8f5</td>\n",
              "      <td>True</td>\n",
              "      <td>True</td>\n",
              "      <td>True</td>\n",
              "      <td>False</td>\n",
              "      <td>0</td>\n",
              "      <td>1</td>\n",
              "      <td>...</td>\n",
              "      <td>-0.413609</td>\n",
              "      <td>-0.139509</td>\n",
              "      <td>0.159876</td>\n",
              "      <td>-0.349294</td>\n",
              "      <td>0.114625</td>\n",
              "      <td>14</td>\n",
              "      <td>8</td>\n",
              "      <td>2018</td>\n",
              "      <td>3.0</td>\n",
              "      <td>677.279739</td>\n",
              "    </tr>\n",
              "  </tbody>\n",
              "</table>\n",
              "<p>3 rows × 55 columns</p>\n",
              "</div>\n",
              "    <div class=\"colab-df-buttons\">\n",
              "\n",
              "  <div class=\"colab-df-container\">\n",
              "    <button class=\"colab-df-convert\" onclick=\"convertToInteractive('df-d94dca36-e83e-43df-8ce8-dab7fbc50114')\"\n",
              "            title=\"Convert this dataframe to an interactive table.\"\n",
              "            style=\"display:none;\">\n",
              "\n",
              "  <svg xmlns=\"http://www.w3.org/2000/svg\" height=\"24px\" viewBox=\"0 -960 960 960\">\n",
              "    <path d=\"M120-120v-720h720v720H120Zm60-500h600v-160H180v160Zm220 220h160v-160H400v160Zm0 220h160v-160H400v160ZM180-400h160v-160H180v160Zm440 0h160v-160H620v160ZM180-180h160v-160H180v160Zm440 0h160v-160H620v160Z\"/>\n",
              "  </svg>\n",
              "    </button>\n",
              "\n",
              "  <style>\n",
              "    .colab-df-container {\n",
              "      display:flex;\n",
              "      gap: 12px;\n",
              "    }\n",
              "\n",
              "    .colab-df-convert {\n",
              "      background-color: #E8F0FE;\n",
              "      border: none;\n",
              "      border-radius: 50%;\n",
              "      cursor: pointer;\n",
              "      display: none;\n",
              "      fill: #1967D2;\n",
              "      height: 32px;\n",
              "      padding: 0 0 0 0;\n",
              "      width: 32px;\n",
              "    }\n",
              "\n",
              "    .colab-df-convert:hover {\n",
              "      background-color: #E2EBFA;\n",
              "      box-shadow: 0px 1px 2px rgba(60, 64, 67, 0.3), 0px 1px 3px 1px rgba(60, 64, 67, 0.15);\n",
              "      fill: #174EA6;\n",
              "    }\n",
              "\n",
              "    .colab-df-buttons div {\n",
              "      margin-bottom: 4px;\n",
              "    }\n",
              "\n",
              "    [theme=dark] .colab-df-convert {\n",
              "      background-color: #3B4455;\n",
              "      fill: #D2E3FC;\n",
              "    }\n",
              "\n",
              "    [theme=dark] .colab-df-convert:hover {\n",
              "      background-color: #434B5C;\n",
              "      box-shadow: 0px 1px 3px 1px rgba(0, 0, 0, 0.15);\n",
              "      filter: drop-shadow(0px 1px 2px rgba(0, 0, 0, 0.3));\n",
              "      fill: #FFFFFF;\n",
              "    }\n",
              "  </style>\n",
              "\n",
              "    <script>\n",
              "      const buttonEl =\n",
              "        document.querySelector('#df-d94dca36-e83e-43df-8ce8-dab7fbc50114 button.colab-df-convert');\n",
              "      buttonEl.style.display =\n",
              "        google.colab.kernel.accessAllowed ? 'block' : 'none';\n",
              "\n",
              "      async function convertToInteractive(key) {\n",
              "        const element = document.querySelector('#df-d94dca36-e83e-43df-8ce8-dab7fbc50114');\n",
              "        const dataTable =\n",
              "          await google.colab.kernel.invokeFunction('convertToInteractive',\n",
              "                                                    [key], {});\n",
              "        if (!dataTable) return;\n",
              "\n",
              "        const docLinkHtml = 'Like what you see? Visit the ' +\n",
              "          '<a target=\"_blank\" href=https://colab.research.google.com/notebooks/data_table.ipynb>data table notebook</a>'\n",
              "          + ' to learn more about interactive tables.';\n",
              "        element.innerHTML = '';\n",
              "        dataTable['output_type'] = 'display_data';\n",
              "        await google.colab.output.renderOutput(dataTable, element);\n",
              "        const docLink = document.createElement('div');\n",
              "        docLink.innerHTML = docLinkHtml;\n",
              "        element.appendChild(docLink);\n",
              "      }\n",
              "    </script>\n",
              "  </div>\n",
              "\n",
              "\n",
              "<div id=\"df-d3631fc6-f9c0-42b2-9569-94ef14e63f20\">\n",
              "  <button class=\"colab-df-quickchart\" onclick=\"quickchart('df-d3631fc6-f9c0-42b2-9569-94ef14e63f20')\"\n",
              "            title=\"Suggest charts.\"\n",
              "            style=\"display:none;\">\n",
              "\n",
              "<svg xmlns=\"http://www.w3.org/2000/svg\" height=\"24px\"viewBox=\"0 0 24 24\"\n",
              "     width=\"24px\">\n",
              "    <g>\n",
              "        <path d=\"M19 3H5c-1.1 0-2 .9-2 2v14c0 1.1.9 2 2 2h14c1.1 0 2-.9 2-2V5c0-1.1-.9-2-2-2zM9 17H7v-7h2v7zm4 0h-2V7h2v10zm4 0h-2v-4h2v4z\"/>\n",
              "    </g>\n",
              "</svg>\n",
              "  </button>\n",
              "\n",
              "<style>\n",
              "  .colab-df-quickchart {\n",
              "      --bg-color: #E8F0FE;\n",
              "      --fill-color: #1967D2;\n",
              "      --hover-bg-color: #E2EBFA;\n",
              "      --hover-fill-color: #174EA6;\n",
              "      --disabled-fill-color: #AAA;\n",
              "      --disabled-bg-color: #DDD;\n",
              "  }\n",
              "\n",
              "  [theme=dark] .colab-df-quickchart {\n",
              "      --bg-color: #3B4455;\n",
              "      --fill-color: #D2E3FC;\n",
              "      --hover-bg-color: #434B5C;\n",
              "      --hover-fill-color: #FFFFFF;\n",
              "      --disabled-bg-color: #3B4455;\n",
              "      --disabled-fill-color: #666;\n",
              "  }\n",
              "\n",
              "  .colab-df-quickchart {\n",
              "    background-color: var(--bg-color);\n",
              "    border: none;\n",
              "    border-radius: 50%;\n",
              "    cursor: pointer;\n",
              "    display: none;\n",
              "    fill: var(--fill-color);\n",
              "    height: 32px;\n",
              "    padding: 0;\n",
              "    width: 32px;\n",
              "  }\n",
              "\n",
              "  .colab-df-quickchart:hover {\n",
              "    background-color: var(--hover-bg-color);\n",
              "    box-shadow: 0 1px 2px rgba(60, 64, 67, 0.3), 0 1px 3px 1px rgba(60, 64, 67, 0.15);\n",
              "    fill: var(--button-hover-fill-color);\n",
              "  }\n",
              "\n",
              "  .colab-df-quickchart-complete:disabled,\n",
              "  .colab-df-quickchart-complete:disabled:hover {\n",
              "    background-color: var(--disabled-bg-color);\n",
              "    fill: var(--disabled-fill-color);\n",
              "    box-shadow: none;\n",
              "  }\n",
              "\n",
              "  .colab-df-spinner {\n",
              "    border: 2px solid var(--fill-color);\n",
              "    border-color: transparent;\n",
              "    border-bottom-color: var(--fill-color);\n",
              "    animation:\n",
              "      spin 1s steps(1) infinite;\n",
              "  }\n",
              "\n",
              "  @keyframes spin {\n",
              "    0% {\n",
              "      border-color: transparent;\n",
              "      border-bottom-color: var(--fill-color);\n",
              "      border-left-color: var(--fill-color);\n",
              "    }\n",
              "    20% {\n",
              "      border-color: transparent;\n",
              "      border-left-color: var(--fill-color);\n",
              "      border-top-color: var(--fill-color);\n",
              "    }\n",
              "    30% {\n",
              "      border-color: transparent;\n",
              "      border-left-color: var(--fill-color);\n",
              "      border-top-color: var(--fill-color);\n",
              "      border-right-color: var(--fill-color);\n",
              "    }\n",
              "    40% {\n",
              "      border-color: transparent;\n",
              "      border-right-color: var(--fill-color);\n",
              "      border-top-color: var(--fill-color);\n",
              "    }\n",
              "    60% {\n",
              "      border-color: transparent;\n",
              "      border-right-color: var(--fill-color);\n",
              "    }\n",
              "    80% {\n",
              "      border-color: transparent;\n",
              "      border-right-color: var(--fill-color);\n",
              "      border-bottom-color: var(--fill-color);\n",
              "    }\n",
              "    90% {\n",
              "      border-color: transparent;\n",
              "      border-bottom-color: var(--fill-color);\n",
              "    }\n",
              "  }\n",
              "</style>\n",
              "\n",
              "  <script>\n",
              "    async function quickchart(key) {\n",
              "      const quickchartButtonEl =\n",
              "        document.querySelector('#' + key + ' button');\n",
              "      quickchartButtonEl.disabled = true;  // To prevent multiple clicks.\n",
              "      quickchartButtonEl.classList.add('colab-df-spinner');\n",
              "      try {\n",
              "        const charts = await google.colab.kernel.invokeFunction(\n",
              "            'suggestCharts', [key], {});\n",
              "      } catch (error) {\n",
              "        console.error('Error during call to suggestCharts:', error);\n",
              "      }\n",
              "      quickchartButtonEl.classList.remove('colab-df-spinner');\n",
              "      quickchartButtonEl.classList.add('colab-df-quickchart-complete');\n",
              "    }\n",
              "    (() => {\n",
              "      let quickchartButtonEl =\n",
              "        document.querySelector('#df-d3631fc6-f9c0-42b2-9569-94ef14e63f20 button');\n",
              "      quickchartButtonEl.style.display =\n",
              "        google.colab.kernel.accessAllowed ? 'block' : 'none';\n",
              "    })();\n",
              "  </script>\n",
              "</div>\n",
              "    </div>\n",
              "  </div>\n"
            ]
          },
          "metadata": {},
          "execution_count": 8
        }
      ]
    },
    {
      "cell_type": "code",
      "metadata": {
        "id": "Afk7Hw_ezJs5"
      },
      "source": [
        "# variables types\n",
        "\n",
        "# categorical\n",
        "cat_variable = ['mode', 'context_type', 'hist_user_behavior_reason_start', 'hist_user_behavior_reason_end']\n",
        "\n",
        "for c in cat_variable:\n",
        "    data[c] = data[c].astype('category')\n",
        "\n",
        "# boolean\n",
        "bool_variable = ['context_switch', 'no_pause_before_play', 'short_pause_before_play', 'long_pause_before_play',\n",
        "                'not_skipped', 'premium', 'hist_user_behavior_is_shuffle']\n",
        "\n",
        "for b in bool_variable:\n",
        "    data[b] = data[b].astype('bool')"
      ],
      "execution_count": 9,
      "outputs": []
    },
    {
      "cell_type": "code",
      "metadata": {
        "id": "E7kGNFKM67x4"
      },
      "source": [
        "data['prev_not_skipped'] = data.groupby(['session_id'])['not_skipped'].shift(1)\n",
        "data['prev_not_skipped'] = data['prev_not_skipped'].astype('bool')\n",
        "\n",
        "data['prev_duration'] = data.groupby(['session_id'])['duration'].shift(1)"
      ],
      "execution_count": 10,
      "outputs": []
    },
    {
      "cell_type": "code",
      "metadata": {
        "colab": {
          "base_uri": "https://localhost:8080/",
          "height": 0
        },
        "id": "PlquowOi6T8v",
        "outputId": "095840f2-c773-4604-82a2-688b102b99fd"
      },
      "source": [
        "data.dtypes"
      ],
      "execution_count": 11,
      "outputs": [
        {
          "output_type": "execute_result",
          "data": {
            "text/plain": [
              "session_id                           object\n",
              "session_position                      int64\n",
              "session_length                        int64\n",
              "track_id                             object\n",
              "skip_1                                 bool\n",
              "skip_2                                 bool\n",
              "skip_3                                 bool\n",
              "not_skipped                            bool\n",
              "context_switch                         bool\n",
              "no_pause_before_play                   bool\n",
              "short_pause_before_play                bool\n",
              "long_pause_before_play                 bool\n",
              "hist_user_behavior_n_seekfwd          int64\n",
              "hist_user_behavior_n_seekback         int64\n",
              "hist_user_behavior_is_shuffle          bool\n",
              "hour_of_day                           int64\n",
              "date                                 object\n",
              "premium                                bool\n",
              "context_type                       category\n",
              "hist_user_behavior_reason_start    category\n",
              "hist_user_behavior_reason_end      category\n",
              "duration                            float64\n",
              "release_year                        float64\n",
              "us_popularity_estimate              float64\n",
              "acousticness                        float64\n",
              "beat_strength                       float64\n",
              "bounciness                          float64\n",
              "danceability                        float64\n",
              "dyn_range_mean                      float64\n",
              "energy                              float64\n",
              "flatness                            float64\n",
              "instrumentalness                    float64\n",
              "key                                 float64\n",
              "liveness                            float64\n",
              "loudness                            float64\n",
              "mechanism                           float64\n",
              "mode                               category\n",
              "organism                            float64\n",
              "speechiness                         float64\n",
              "tempo                               float64\n",
              "time_signature                      float64\n",
              "valence                             float64\n",
              "acoustic_vector_0                   float64\n",
              "acoustic_vector_1                   float64\n",
              "acoustic_vector_2                   float64\n",
              "acoustic_vector_3                   float64\n",
              "acoustic_vector_4                   float64\n",
              "acoustic_vector_5                   float64\n",
              "acoustic_vector_6                   float64\n",
              "acoustic_vector_7                   float64\n",
              "day                                   int64\n",
              "month                                 int64\n",
              "year                                  int64\n",
              "years_since_release                 float64\n",
              "since_session_start                 float64\n",
              "prev_not_skipped                       bool\n",
              "prev_duration                       float64\n",
              "dtype: object"
            ]
          },
          "metadata": {},
          "execution_count": 11
        }
      ]
    },
    {
      "cell_type": "markdown",
      "metadata": {
        "id": "iD2-PALG8ytd"
      },
      "source": [
        "\n",
        "## Modeling"
      ]
    },
    {
      "cell_type": "markdown",
      "metadata": {
        "id": "qptwiKY29FPi"
      },
      "source": [
        "### I. Prediction based on Audio Features\n",
        "\n",
        "Prediction of song skipping is based solely on the audio features of songs. The idea is to find if there's a consensus for song skipping across the population of music enthusiasts that is only dependent on the song itself."
      ]
    },
    {
      "cell_type": "code",
      "metadata": {
        "id": "CFbt_Wi7-75I"
      },
      "source": [
        "import lightgbm as lgbm\n",
        "from sklearn.metrics import accuracy_score, precision_score, recall_score, f1_score\n",
        "from sklearn.model_selection import train_test_split"
      ],
      "execution_count": 12,
      "outputs": []
    },
    {
      "cell_type": "code",
      "metadata": {
        "colab": {
          "base_uri": "https://localhost:8080/",
          "height": 0
        },
        "id": "Z6nTD5pKkxJT",
        "outputId": "ddeb8c19-4cab-4898-a925-4994a95598a6"
      },
      "source": [
        "# Ensure that the data is balanced\n",
        "sub_data = data.groupby('not_skipped', group_keys=False).apply(lambda x: x.sample(1000000))\n",
        "\n",
        "sub_data.not_skipped.value_counts()"
      ],
      "execution_count": 13,
      "outputs": [
        {
          "output_type": "execute_result",
          "data": {
            "text/plain": [
              "False    1000000\n",
              "True     1000000\n",
              "Name: not_skipped, dtype: int64"
            ]
          },
          "metadata": {},
          "execution_count": 13
        }
      ]
    },
    {
      "cell_type": "code",
      "metadata": {
        "id": "QAQlhLlepkOp"
      },
      "source": [
        "song_features = ['duration', 'us_popularity_estimate', 'years_since_release',\n",
        "                 'time_signature', 'key', 'mode']\n",
        "\n",
        "audio_char = ['acousticness', 'beat_strength', 'bounciness', 'danceability', 'dyn_range_mean',\n",
        "              'energy', 'flatness', 'instrumentalness', 'liveness', 'loudness',\n",
        "              'mechanism', 'organism', 'speechiness', 'tempo', 'valence',\n",
        "              'acoustic_vector_0', 'acoustic_vector_1', 'acoustic_vector_2',\n",
        "              'acoustic_vector_3', 'acoustic_vector_4', 'acoustic_vector_5',\n",
        "              'acoustic_vector_6', 'acoustic_vector_7']"
      ],
      "execution_count": 14,
      "outputs": []
    },
    {
      "cell_type": "code",
      "metadata": {
        "id": "7QuejthHLiov"
      },
      "source": [
        "# One run to ensure that the model works\n",
        "X_data = sub_data[song_features + audio_char]\n",
        "Y_data = sub_data['not_skipped']"
      ],
      "execution_count": 15,
      "outputs": []
    },
    {
      "cell_type": "markdown",
      "metadata": {
        "id": "Nud9jfrP9yvI"
      },
      "source": [
        "#### Trial Run"
      ]
    },
    {
      "cell_type": "code",
      "metadata": {
        "id": "pwfo7fBONcot",
        "colab": {
          "base_uri": "https://localhost:8080/",
          "height": 0
        },
        "outputId": "499dfe1a-70de-4d72-9072-573b50d91e88"
      },
      "source": [
        "# Splitting the data between train, validation, and test\n",
        "\n",
        "X_train, X_test, y_train, y_test = train_test_split(X_data, Y_data, train_size=0.9)\n",
        "X_train, X_val, y_train, y_val = train_test_split(X_train, y_train, train_size=0.8)\n",
        "\n",
        "X_train.shape, X_val.shape, X_test.shape"
      ],
      "execution_count": 16,
      "outputs": [
        {
          "output_type": "execute_result",
          "data": {
            "text/plain": [
              "((1440000, 29), (360000, 29), (200000, 29))"
            ]
          },
          "metadata": {},
          "execution_count": 16
        }
      ]
    },
    {
      "cell_type": "code",
      "metadata": {
        "colab": {
          "base_uri": "https://localhost:8080/",
          "height": 715
        },
        "id": "d79VVam4vYzQ",
        "outputId": "f6cbb04c-5596-4a93-ad5c-d5968274c519"
      },
      "source": [
        "# LightGBM\n",
        "model = lgbm.LGBMClassifier()\n",
        "model.fit(X_train, y_train)\n",
        "y_pred_proba = model.predict_proba(X_val)[:, 1]  # Get probability of the positive class\n",
        "y_pred = model.predict(X_val)\n",
        "print('Accuracy: {:.3f}'.format(accuracy_score(y_val, y_pred)))\n",
        "\n",
        "log_metrics(y_val, y_pred, y_pred_proba, is_val=True)\n"
      ],
      "execution_count": 17,
      "outputs": [
        {
          "output_type": "stream",
          "name": "stdout",
          "text": [
            "[LightGBM] [Info] Number of positive: 720201, number of negative: 719799\n",
            "[LightGBM] [Info] Auto-choosing row-wise multi-threading, the overhead of testing was 0.233180 seconds.\n",
            "You can set `force_row_wise=true` to remove the overhead.\n",
            "And if memory is not enough, you can set `force_col_wise=true`.\n",
            "[LightGBM] [Info] Total Bins 6463\n",
            "[LightGBM] [Info] Number of data points in the train set: 1440000, number of used features: 29\n",
            "[LightGBM] [Info] [binary:BoostFromScore]: pavg=0.500140 -> initscore=0.000558\n",
            "[LightGBM] [Info] Start training from score 0.000558\n",
            "Accuracy: 0.550\n",
            "validation/accuracy_score : 0.5495305555555555\n",
            "validation/precision : 0.5495700828375596\n",
            "validation/recall : 0.5495305555555555\n",
            "validation/f1_score : 0.5494584933399808\n",
            "validation/roc_auc : 0.5712805794481778\n"
          ]
        },
        {
          "output_type": "display_data",
          "data": {
            "text/plain": [
              "<Figure size 640x480 with 1 Axes>"
            ],
            "image/png": "[encoded data removed]"
          },
          "metadata": {}
        }
      ]
    },
    {
      "cell_type": "markdown",
      "metadata": {
        "id": "pvIf40NQ9JPE"
      },
      "source": [
        "### II. Prediction based on Audio Features & User Behavior"
      ]
    },
    {
      "cell_type": "code",
      "metadata": {
        "id": "of9VUbQFmXq9"
      },
      "source": [
        "user_behavior = ['context_switch', 'no_pause_before_play', 'short_pause_before_play',\n",
        "                 'long_pause_before_play', 'hist_user_behavior_n_seekfwd',\n",
        "                 'hist_user_behavior_n_seekback', 'hist_user_behavior_is_shuffle',\n",
        "                 'hour_of_day', 'premium', 'context_type', 'since_session_start']"
      ],
      "execution_count": 18,
      "outputs": []
    },
    {
      "cell_type": "code",
      "metadata": {
        "id": "d889bQWdlTBL"
      },
      "source": [
        "# One run to ensure that the model works\n",
        "X_data = sub_data[song_features + audio_char + user_behavior]\n",
        "Y_data = sub_data['not_skipped']"
      ],
      "execution_count": 19,
      "outputs": []
    },
    {
      "cell_type": "markdown",
      "metadata": {
        "id": "QQ0SRDpEAu7l"
      },
      "source": [
        "#### Trial Run"
      ]
    },
    {
      "cell_type": "code",
      "metadata": {
        "id": "pqdvJ4MbAa0Y",
        "colab": {
          "base_uri": "https://localhost:8080/",
          "height": 0
        },
        "outputId": "0dc8b6f7-1b01-4171-c01a-d390e77da737"
      },
      "source": [
        "# Splitting the data between train, validation, and test\n",
        "\n",
        "X_train, X_test, y_train, y_test = train_test_split(X_data, Y_data, train_size=0.9)\n",
        "X_train, X_val, y_train, y_val = train_test_split(X_train, y_train, train_size=0.8)\n",
        "\n",
        "X_train.shape, X_val.shape, X_test.shape"
      ],
      "execution_count": 20,
      "outputs": [
        {
          "output_type": "execute_result",
          "data": {
            "text/plain": [
              "((1440000, 40), (360000, 40), (200000, 40))"
            ]
          },
          "metadata": {},
          "execution_count": 20
        }
      ]
    },
    {
      "cell_type": "code",
      "metadata": {
        "colab": {
          "base_uri": "https://localhost:8080/",
          "height": 698
        },
        "id": "iZBh3fwJvJBJ",
        "outputId": "7c593b60-0d8e-4a13-8061-ff3f2a1b7a75"
      },
      "source": [
        "# LightGBM\n",
        "model = lgbm.LGBMClassifier()\n",
        "model.fit(X_train, y_train)\n",
        "y_pred_proba = model.predict_proba(X_val)[:, 1]  # Get probability of the positive class\n",
        "y_pred = model.predict(X_val)\n",
        "print('Accuracy: {:.3f}'.format(accuracy_score(y_val, y_pred)))\n",
        "\n",
        "log_metrics(y_val, y_pred, y_pred_proba, is_val=True)\n"
      ],
      "execution_count": 21,
      "outputs": [
        {
          "output_type": "stream",
          "name": "stdout",
          "text": [
            "[LightGBM] [Info] Number of positive: 720291, number of negative: 719709\n",
            "[LightGBM] [Info] Auto-choosing col-wise multi-threading, the overhead of testing was 1.182365 seconds.\n",
            "You can set `force_col_wise=true` to remove the overhead.\n",
            "[LightGBM] [Info] Total Bins 6800\n",
            "[LightGBM] [Info] Number of data points in the train set: 1440000, number of used features: 40\n",
            "[LightGBM] [Info] [binary:BoostFromScore]: pavg=0.500202 -> initscore=0.000808\n",
            "[LightGBM] [Info] Start training from score 0.000808\n",
            "Accuracy: 0.609\n",
            "validation/accuracy_score : 0.6088805555555555\n",
            "validation/precision : 0.611530861308072\n",
            "validation/recall : 0.6088805555555555\n",
            "validation/f1_score : 0.6065180051549862\n",
            "validation/roc_auc : 0.6563796959260245\n"
          ]
        },
        {
          "output_type": "display_data",
          "data": {
            "text/plain": [
              "<Figure size 640x480 with 1 Axes>"
            ],
            "image/png": "[encoded data removed]"
          },
          "metadata": {}
        }
      ]
    },
    {
      "cell_type": "markdown",
      "metadata": {
        "id": "45pU5p44c8nL"
      },
      "source": [
        "### III. Prediction based on Audio & User features + Feature Engineering"
      ]
    },
    {
      "cell_type": "code",
      "metadata": {
        "id": "t1Yv9zlJEx4M"
      },
      "source": [
        "# One run to ensure that the model works\n",
        "other_features = ['prev_not_skipped', 'prev_duration', 'session_position']\n",
        "\n",
        "X_data = sub_data[song_features + audio_char + user_behavior + other_features]\n",
        "Y_data = sub_data['not_skipped']"
      ],
      "execution_count": 22,
      "outputs": []
    },
    {
      "cell_type": "markdown",
      "metadata": {
        "id": "avFkcOGt7Yit"
      },
      "source": [
        "#### Trial Run"
      ]
    },
    {
      "cell_type": "code",
      "metadata": {
        "id": "5Du-qvr9isv2",
        "colab": {
          "base_uri": "https://localhost:8080/",
          "height": 0
        },
        "outputId": "bd277390-091a-4aea-ca0b-b03d28033187"
      },
      "source": [
        "# Splitting the data between train, validation, and test\n",
        "\n",
        "X_train, X_test, y_train, y_test = train_test_split(X_data, Y_data, train_size=0.9)\n",
        "X_train, X_val, y_train, y_val = train_test_split(X_train, y_train, train_size=0.8)\n",
        "\n",
        "X_train.shape, X_val.shape, X_test.shape"
      ],
      "execution_count": 23,
      "outputs": [
        {
          "output_type": "execute_result",
          "data": {
            "text/plain": [
              "((1440000, 43), (360000, 43), (200000, 43))"
            ]
          },
          "metadata": {},
          "execution_count": 23
        }
      ]
    },
    {
      "cell_type": "code",
      "metadata": {
        "colab": {
          "base_uri": "https://localhost:8080/",
          "height": 698
        },
        "id": "QA8ZvjIsE7Sh",
        "outputId": "73d4c6d4-fe47-491a-8f3e-b411073a12d1"
      },
      "source": [
        "# LightGBM\n",
        "model = lgbm.LGBMClassifier()\n",
        "model.fit(X_train, y_train)\n",
        "y_pred_proba = model.predict_proba(X_val)[:, 1]  # Get probability of the positive class\n",
        "y_pred = model.predict(X_val)\n",
        "print('Accuracy: {:.3f}'.format(accuracy_score(y_val, y_pred)))\n",
        "\n",
        "log_metrics(y_val, y_pred, y_pred_proba, is_val=True)\n"
      ],
      "execution_count": 24,
      "outputs": [
        {
          "output_type": "stream",
          "name": "stdout",
          "text": [
            "[LightGBM] [Info] Number of positive: 719702, number of negative: 720298\n",
            "[LightGBM] [Info] Auto-choosing col-wise multi-threading, the overhead of testing was 1.319822 seconds.\n",
            "You can set `force_col_wise=true` to remove the overhead.\n",
            "[LightGBM] [Info] Total Bins 7074\n",
            "[LightGBM] [Info] Number of data points in the train set: 1440000, number of used features: 43\n",
            "[LightGBM] [Info] [binary:BoostFromScore]: pavg=0.499793 -> initscore=-0.000828\n",
            "[LightGBM] [Info] Start training from score -0.000828\n",
            "Accuracy: 0.759\n",
            "validation/accuracy_score : 0.7592083333333334\n",
            "validation/precision : 0.7738742699354273\n",
            "validation/recall : 0.7592083333333334\n",
            "validation/f1_score : 0.7559516759471725\n",
            "validation/roc_auc : 0.8246744650632707\n"
          ]
        },
        {
          "output_type": "display_data",
          "data": {
            "text/plain": [
              "<Figure size 640x480 with 1 Axes>"
            ],
            "image/png": "[encoded data removed]"
          },
          "metadata": {}
        }
      ]
    }
  ]
}